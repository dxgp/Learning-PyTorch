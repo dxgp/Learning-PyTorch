{
 "cells": [
  {
   "cell_type": "markdown",
   "id": "4e362833",
   "metadata": {},
   "source": [
    "# Plain NumPy"
   ]
  },
  {
   "cell_type": "code",
   "execution_count": 54,
   "id": "95759494",
   "metadata": {},
   "outputs": [
    {
     "name": "stdout",
     "output_type": "stream",
     "text": [
      "99 2823.290771484375\n",
      "199 1982.628662109375\n",
      "299 1393.7802734375\n",
      "399 981.0816040039062\n",
      "499 691.6791381835938\n",
      "599 488.6322021484375\n",
      "699 346.1021423339844\n",
      "799 246.0050048828125\n",
      "899 175.67666625976562\n",
      "999 126.24301147460938\n",
      "1099 91.4822998046875\n",
      "1199 67.030029296875\n",
      "1299 49.82298278808594\n",
      "1399 37.71027374267578\n",
      "1499 29.180950164794922\n",
      "1599 23.173114776611328\n",
      "1699 18.940120697021484\n",
      "1799 15.956855773925781\n",
      "1899 13.853826522827148\n",
      "1999 12.370945930480957\n"
     ]
    }
   ],
   "source": [
    "# -*- coding: utf-8 -*-\n",
    "import math\n",
    "import torch\n",
    "\n",
    "dtype = torch.float\n",
    "device = torch.device(\"cpu\")\n",
    "x = torch.linspace(-math.pi, math.pi, 2000, device=device, dtype=dtype)\n",
    "y = torch.sin(x)\n",
    "\n",
    "a = torch.randn((), device=device, dtype=dtype, requires_grad=True)\n",
    "b = torch.randn((), device=device, dtype=dtype, requires_grad=True)\n",
    "c = torch.randn((), device=device, dtype=dtype, requires_grad=True)\n",
    "d = torch.randn((), device=device, dtype=dtype, requires_grad=True)\n",
    "\n",
    "\n",
    "learning_rate = 1e-6\n",
    "\n",
    "for t in range(2000):\n",
    "    y_pred = a + b * x + c * x ** 2 + d * x ** 3\n",
    "    loss = (y_pred - y).pow(2).sum()\n",
    "    if t%100==99:\n",
    "        print(t,loss.item())\n",
    "        \n",
    "    loss.backward()\n",
    "    \n",
    "    with torch.no_grad():\n",
    "        a -= learning_rate * a.grad\n",
    "        b -= learning_rate * b.grad\n",
    "        c -= learning_rate * c.grad\n",
    "        d -= learning_rate * d.grad\n",
    "        \n",
    "        a.grad = None\n",
    "        b.grad = None\n",
    "        c.grad = None\n",
    "        d.grad = None"
   ]
  },
  {
   "cell_type": "code",
   "execution_count": 45,
   "id": "3fe37b54",
   "metadata": {},
   "outputs": [
    {
     "name": "stdout",
     "output_type": "stream",
     "text": [
      "99 4645.2607421875\n",
      "199 3074.67431640625\n",
      "299 2036.1197509765625\n",
      "399 1349.373779296875\n",
      "499 895.2625732421875\n",
      "599 594.9806518554688\n",
      "699 396.4188537597656\n",
      "799 265.11956787109375\n",
      "899 178.29762268066406\n",
      "999 120.88645935058594\n",
      "1099 82.92330932617188\n",
      "1199 57.82003402709961\n",
      "1299 41.220420837402344\n",
      "1399 30.24390411376953\n",
      "1499 22.985671997070312\n",
      "1599 18.186128616333008\n",
      "1699 15.012365341186523\n",
      "1799 12.913777351379395\n",
      "1899 11.526037216186523\n",
      "1999 10.608388900756836\n",
      "Result: y = -0.0003756468649953604 + 0.8156008720397949 x + 6.480699084931985e-05 x^2 + -0.08747858554124832 x^3\n"
     ]
    }
   ],
   "source": [
    "# -*- coding: utf-8 -*-\n",
    "import torch\n",
    "import math\n",
    "\n",
    "dtype = torch.float\n",
    "device = torch.device(\"cpu\")\n",
    "x = torch.linspace(-math.pi, math.pi, 2000, device=device, dtype=dtype)\n",
    "y = torch.sin(x)\n",
    "\n",
    "a = torch.randn((), device=device, dtype=dtype, requires_grad=True)\n",
    "b = torch.randn((), device=device, dtype=dtype, requires_grad=True)\n",
    "c = torch.randn((), device=device, dtype=dtype, requires_grad=True)\n",
    "d = torch.randn((), device=device, dtype=dtype, requires_grad=True)\n",
    "\n",
    "learning_rate = 1e-6\n",
    "for t in range(2000):\n",
    "    y_pred = a + b * x + c * x ** 2 + d * x ** 3\n",
    "    loss = (y_pred - y).pow(2).sum()\n",
    "    if t % 100 == 99:\n",
    "        print(t, loss.item())\n",
    "\n",
    "    loss.backward()\n",
    "\n",
    "\n",
    "    with torch.no_grad():\n",
    "        a -= learning_rate * a.grad\n",
    "        b -= learning_rate * b.grad\n",
    "        c -= learning_rate * c.grad\n",
    "        d -= learning_rate * d.grad\n",
    "\n",
    "        a.grad = None\n",
    "        b.grad = None\n",
    "        c.grad = None\n",
    "        d.grad = None\n",
    "\n",
    "print(f'Result: y = {a.item()} + {b.item()} x + {c.item()} x^2 + {d.item()} x^3')"
   ]
  },
  {
   "cell_type": "code",
   "execution_count": null,
   "id": "0ca48209",
   "metadata": {},
   "outputs": [],
   "source": []
  }
 ],
 "metadata": {
  "kernelspec": {
   "display_name": "Python 3",
   "language": "python",
   "name": "python3"
  },
  "language_info": {
   "codemirror_mode": {
    "name": "ipython",
    "version": 3
   },
   "file_extension": ".py",
   "mimetype": "text/x-python",
   "name": "python",
   "nbconvert_exporter": "python",
   "pygments_lexer": "ipython3",
   "version": "3.8.10"
  }
 },
 "nbformat": 4,
 "nbformat_minor": 5
}
