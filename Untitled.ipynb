{
 "cells": [
  {
   "cell_type": "markdown",
   "id": "80260901",
   "metadata": {},
   "source": [
    "# A Full Blown Neural Network"
   ]
  },
  {
   "cell_type": "code",
   "execution_count": 1,
   "id": "24ebda26",
   "metadata": {},
   "outputs": [],
   "source": [
    "import torch\n",
    "import torch.nn as nn"
   ]
  },
  {
   "cell_type": "code",
   "execution_count": 103,
   "id": "14320b3e",
   "metadata": {},
   "outputs": [],
   "source": [
    "from prettytable import PrettyTable"
   ]
  },
  {
   "cell_type": "markdown",
   "id": "f630676b",
   "metadata": {},
   "source": [
    "input -> Conv2d -> ReLU -> max_pool2d -> Conv2d -> ReLU -> max_pool2d -> flatten -> ReLU(fully_connected) -> ReLU(fully_connected) -> fully_connected -> output"
   ]
  },
  {
   "cell_type": "code",
   "execution_count": 108,
   "id": "909e0a8f",
   "metadata": {},
   "outputs": [],
   "source": [
    "class Net(nn.Module):\n",
    "    def __init__(self):\n",
    "        super(Net,self).__init__()\n",
    "        self.conv1 = nn.Conv2d(1,6,5)\n",
    "        self.conv2 = nn.Conv2d(6,16,5)\n",
    "        self.fc1 = nn.Linear(16*5*5,120)\n",
    "        self.fc2 = nn.Linear(120,84)\n",
    "        self.fc3 = nn.Linear(84,10)\n",
    "        self.params_table = PrettyTable()\n",
    "        self.params_table.field_names = [\"Layer Name\",\"Parameters\"]\n",
    "        \n",
    "    def forward(self,x):\n",
    "        x = torch.nn.functional.max_pool2d(torch.nn.functional.relu(self.conv1(x)),(2,2))\n",
    "        x = torch.nn.functional.max_pool2d(torch.nn.functional.relu(self.conv2(x)),(2,2))\n",
    "        x = torch.flatten(x,1)\n",
    "        x = torch.nn.functional.relu(self.fc1(x))\n",
    "        x = torch.nn.functional.relu(self.fc2(x))\n",
    "        x = self.fc3(x)\n",
    "        return x\n",
    "    def print_layers(self):\n",
    "        list_params = list(self.named_parameters())\n",
    "        net_params = 0\n",
    "        for item in list_params:\n",
    "            params_layer = multiply_size_obj(item[1].size())\n",
    "            self.params_table.add_row([item[0],params_layer])\n",
    "            net_params += params_layer\n",
    "        self.params_table.add_row([\"TOTAL\",net_params])\n",
    "        print(self.params_table)"
   ]
  },
  {
   "cell_type": "code",
   "execution_count": 109,
   "id": "c427a2e1",
   "metadata": {},
   "outputs": [],
   "source": [
    "net = Net()"
   ]
  },
  {
   "cell_type": "code",
   "execution_count": 110,
   "id": "998762f9",
   "metadata": {},
   "outputs": [
    {
     "name": "stdout",
     "output_type": "stream",
     "text": [
      "Net(\n",
      "  (conv1): Conv2d(1, 6, kernel_size=(5, 5), stride=(1, 1))\n",
      "  (conv2): Conv2d(6, 16, kernel_size=(5, 5), stride=(1, 1))\n",
      "  (fc1): Linear(in_features=400, out_features=120, bias=True)\n",
      "  (fc2): Linear(in_features=120, out_features=84, bias=True)\n",
      "  (fc3): Linear(in_features=84, out_features=10, bias=True)\n",
      ")\n"
     ]
    }
   ],
   "source": [
    "print(net)"
   ]
  },
  {
   "cell_type": "code",
   "execution_count": 111,
   "id": "1df12d21",
   "metadata": {},
   "outputs": [
    {
     "name": "stdout",
     "output_type": "stream",
     "text": [
      "+--------------+------------+\n",
      "|  Layer Name  | Parameters |\n",
      "+--------------+------------+\n",
      "| conv1.weight |    150     |\n",
      "|  conv1.bias  |     6      |\n",
      "| conv2.weight |    2400    |\n",
      "|  conv2.bias  |     16     |\n",
      "|  fc1.weight  |   48000    |\n",
      "|   fc1.bias   |    120     |\n",
      "|  fc2.weight  |   10080    |\n",
      "|   fc2.bias   |     84     |\n",
      "|  fc3.weight  |    840     |\n",
      "|   fc3.bias   |     10     |\n",
      "|    TOTAL     |   61706    |\n",
      "+--------------+------------+\n"
     ]
    }
   ],
   "source": [
    "net.print_layers()"
   ]
  },
  {
   "cell_type": "markdown",
   "id": "20ac55d6",
   "metadata": {},
   "source": [
    "PyTorch does not have an inbuilt funtion to count the number of parameters, so i'm going to have to write one."
   ]
  },
  {
   "cell_type": "markdown",
   "id": "1ee923f4",
   "metadata": {},
   "source": [
    "Wrote it!"
   ]
  },
  {
   "cell_type": "code",
   "execution_count": 112,
   "id": "12ed73a1",
   "metadata": {},
   "outputs": [],
   "source": [
    "input = torch.randn(1,1,32,32)\n",
    "out = net(input)"
   ]
  },
  {
   "cell_type": "code",
   "execution_count": 113,
   "id": "b7a15037",
   "metadata": {},
   "outputs": [
    {
     "name": "stdout",
     "output_type": "stream",
     "text": [
      "tensor([[-0.0786,  0.1551, -0.0848, -0.0579, -0.0250,  0.1126,  0.0904,  0.0675,\n",
      "          0.0763, -0.1592]], grad_fn=<AddmmBackward>)\n"
     ]
    }
   ],
   "source": [
    "print(out)"
   ]
  },
  {
   "cell_type": "code",
   "execution_count": null,
   "id": "eca7e941",
   "metadata": {
    "collapsed": true
   },
   "outputs": [],
   "source": [
    "net.zero_grad()\n",
    "out.backward()"
   ]
  },
  {
   "cell_type": "code",
   "execution_count": 115,
   "id": "60fcc39d",
   "metadata": {},
   "outputs": [
    {
     "name": "stdout",
     "output_type": "stream",
     "text": [
      "tensor(2.0173, grad_fn=<MseLossBackward>)\n"
     ]
    }
   ],
   "source": [
    "output = net(input)\n",
    "target = torch.randn(10)\n",
    "target = target.view(1,-1)\n",
    "criterion = nn.MSELoss()\n",
    "loss = criterion(output,target)\n",
    "print(loss)"
   ]
  },
  {
   "cell_type": "code",
   "execution_count": 118,
   "id": "b590601b",
   "metadata": {},
   "outputs": [
    {
     "data": {
      "text/plain": [
       "<MseLossBackward at 0x12c6ae9d0>"
      ]
     },
     "execution_count": 118,
     "metadata": {},
     "output_type": "execute_result"
    }
   ],
   "source": [
    "loss.grad_fn"
   ]
  },
  {
   "cell_type": "code",
   "execution_count": null,
   "id": "e3017943",
   "metadata": {},
   "outputs": [],
   "source": []
  }
 ],
 "metadata": {
  "kernelspec": {
   "display_name": "Python 3",
   "language": "python",
   "name": "python3"
  },
  "language_info": {
   "codemirror_mode": {
    "name": "ipython",
    "version": 3
   },
   "file_extension": ".py",
   "mimetype": "text/x-python",
   "name": "python",
   "nbconvert_exporter": "python",
   "pygments_lexer": "ipython3",
   "version": "3.8.10"
  }
 },
 "nbformat": 4,
 "nbformat_minor": 5
}
